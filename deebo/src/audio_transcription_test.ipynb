{
 "cells": [
  {
   "cell_type": "code",
   "execution_count": 2,
   "metadata": {},
   "outputs": [
    {
     "name": "stdout",
     "output_type": "stream",
     "text": [
      "Importing the dtw module. When using in academic works please cite:\n",
      "  T. Giorgino. Computing and Visualizing Dynamic Time Warping Alignments in R: The dtw Package.\n",
      "  J. Stat. Soft., doi:10.18637/jss.v031.i07.\n",
      "\n"
     ]
    },
    {
     "name": "stderr",
     "output_type": "stream",
     "text": [
      "/Library/Frameworks/Python.framework/Versions/3.10/lib/python3.10/site-packages/whisper/__init__.py:150: FutureWarning: You are using `torch.load` with `weights_only=False` (the current default value), which uses the default pickle module implicitly. It is possible to construct malicious pickle data which will execute arbitrary code during unpickling (See https://github.com/pytorch/pytorch/blob/main/SECURITY.md#untrusted-models for more details). In a future release, the default value for `weights_only` will be flipped to `True`. This limits the functions that could be executed during unpickling. Arbitrary objects will no longer be allowed to be loaded via this mode unless they are explicitly allowlisted by the user via `torch.serialization.add_safe_globals`. We recommend you start setting `weights_only=True` for any use case where you don't have full control of the loaded file. Please open an issue on GitHub for any issues related to this experimental feature.\n",
      "  checkpoint = torch.load(fp, map_location=device)\n",
      " 83%|████████▎ | 14997/17997 [01:37<00:19, 153.52frames/s]\n"
     ]
    }
   ],
   "source": [
    "import whisper_timestamped as whisper\n",
    "import json\n",
    "\n",
    "file = \"/Users/aranyeosakwe/deebo/deebo/data/Melanie Martinez - Play Date (Official Audio).mp3\"\n",
    "audio = whisper.load_audio(file)\n",
    "\n",
    "model = whisper.load_model(\"medium\", device=\"cpu\")\n",
    "\n",
    "result = whisper.transcribe(model, audio, language=\"en\")"
   ]
  },
  {
   "cell_type": "code",
   "execution_count": 3,
   "metadata": {},
   "outputs": [
    {
     "data": {
      "text/plain": [
       "dict_keys(['text', 'segments', 'language'])"
      ]
     },
     "execution_count": 3,
     "metadata": {},
     "output_type": "execute_result"
    }
   ],
   "source": [
    "result.keys()"
   ]
  },
  {
   "cell_type": "code",
   "execution_count": 4,
   "metadata": {},
   "outputs": [
    {
     "data": {
      "text/plain": [
       "{'start': 93.12, 'end': 93.62, 'confidence': 0.927}"
      ]
     },
     "execution_count": 4,
     "metadata": {},
     "output_type": "execute_result"
    }
   ],
   "source": [
    "result[\"segments\"][3][\"words\"][0].pop(\"text\")\n",
    "result[\"segments\"][3][\"words\"][0]"
   ]
  },
  {
   "cell_type": "markdown",
   "metadata": {},
   "source": [
    "Audio transcription should:\n",
    "\n",
    "- Take the song\n",
    "- Output the lyrics\n",
    "- Output the timestamps of the lyrics\n"
   ]
  },
  {
   "cell_type": "code",
   "execution_count": 5,
   "metadata": {},
   "outputs": [
    {
     "data": {
      "text/plain": [
       "[{'start': 93.12, 'end': 93.62, 'confidence': 0.927},\n",
       " {'text': \"don't\", 'start': 93.62, 'end': 94.24, 'confidence': 0.997},\n",
       " {'text': 'wanna', 'start': 94.24, 'end': 94.58, 'confidence': 0.993},\n",
       " {'text': 'play', 'start': 94.58, 'end': 94.92, 'confidence': 0.998},\n",
       " {'text': 'no', 'start': 94.92, 'end': 95.2, 'confidence': 0.998},\n",
       " {'text': 'games,', 'start': 95.2, 'end': 95.66, 'confidence': 0.999},\n",
       " {'text': \"I'm\", 'start': 95.72, 'end': 96.32, 'confidence': 0.999},\n",
       " {'text': 'tired', 'start': 96.32, 'end': 96.58, 'confidence': 0.999},\n",
       " {'text': 'of', 'start': 96.58, 'end': 96.78, 'confidence': 1.0},\n",
       " {'text': 'always', 'start': 96.78, 'end': 97.06, 'confidence': 0.999},\n",
       " {'text': 'chasing,', 'start': 97.06, 'end': 97.86, 'confidence': 0.999},\n",
       " {'text': 'chasing', 'start': 98.2, 'end': 98.56, 'confidence': 0.999},\n",
       " {'text': 'after', 'start': 98.56, 'end': 99.04, 'confidence': 1.0},\n",
       " {'text': 'you', 'start': 99.04, 'end': 99.48, 'confidence': 0.999}]"
      ]
     },
     "execution_count": 5,
     "metadata": {},
     "output_type": "execute_result"
    }
   ],
   "source": [
    "result[\"segments\"][3][\"words\"]"
   ]
  },
  {
   "cell_type": "markdown",
   "metadata": {},
   "source": [
    "Word detection should:\n",
    "\n",
    "- Take the lyrics + timestamp\n",
    "- Output the related word/timestamps "
   ]
  },
  {
   "cell_type": "code",
   "execution_count": null,
   "metadata": {},
   "outputs": [],
   "source": [
    "from audio_transcription import Transcriber\n",
    "\n",
    "t = Transcriber(\n",
    "    audio=\"/Users/aranyeosakwe/deebo/deebo/data/Melanie Martinez - Play Date (Official Audio).mp3\"\n",
    ")"
   ]
  },
  {
   "cell_type": "code",
   "execution_count": 35,
   "metadata": {},
   "outputs": [],
   "source": [
    "verses = t.get_metadata()\n",
    "\n",
    "word_dictionary = {}\n",
    "\n",
    "for verse in verses:\n",
    "    words = verse[\"words\"]\n",
    "\n",
    "    for word_info in words:\n",
    "        if \"text\" in word_info.keys():\n",
    "            word = word_info[\"text\"]\n",
    "            info = word_info.copy()\n",
    "            info.pop(\"text\")\n",
    "\n",
    "            if word not in word_dictionary:\n",
    "                word_dictionary[word] = []\n",
    "\n",
    "            word_dictionary[word].append(info)\n"
   ]
  },
  {
   "cell_type": "code",
   "execution_count": 37,
   "metadata": {},
   "outputs": [
    {
     "data": {
      "text/plain": [
       "dict_keys(['start', 'end', 'confidence'])"
      ]
     },
     "execution_count": 37,
     "metadata": {},
     "output_type": "execute_result"
    }
   ],
   "source": [
    "word_info.keys()"
   ]
  }
 ],
 "metadata": {
  "kernelspec": {
   "display_name": "Python 3",
   "language": "python",
   "name": "python3"
  },
  "language_info": {
   "codemirror_mode": {
    "name": "ipython",
    "version": 3
   },
   "file_extension": ".py",
   "mimetype": "text/x-python",
   "name": "python",
   "nbconvert_exporter": "python",
   "pygments_lexer": "ipython3",
   "version": "3.10.1"
  }
 },
 "nbformat": 4,
 "nbformat_minor": 2
}
